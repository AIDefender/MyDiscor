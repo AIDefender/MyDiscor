{
 "metadata": {
  "language_info": {
   "codemirror_mode": {
    "name": "ipython",
    "version": 3
   },
   "file_extension": ".py",
   "mimetype": "text/x-python",
   "name": "python",
   "nbconvert_exporter": "python",
   "pygments_lexer": "ipython3",
   "version": "3.8.8"
  },
  "orig_nbformat": 2,
  "kernelspec": {
   "name": "python388jvsc74a57bd02a2ed7bf0adb749883190408a85a496b670b985a5f480b8cd999f80343f1fb6a",
   "display_name": "Python 3.8.8 64-bit ('discor': conda)"
  }
 },
 "nbformat": 4,
 "nbformat_minor": 2,
 "cells": [
  {
   "cell_type": "code",
   "execution_count": 1,
   "metadata": {},
   "outputs": [],
   "source": [
    "import gym\n",
    "from gym.envs.registration import register\n",
    "from metaworld.envs.mujoco.env_dict import ALL_V1_ENVIRONMENTS\n",
    "import dmc2gym\n",
    "\n",
    "gym.logger.set_level(40)\n",
    "\n",
    "def assert_env(env):\n",
    "    assert isinstance(env.observation_space, gym.spaces.Box)\n",
    "    assert isinstance(env.action_space, gym.spaces.Box)\n",
    "    assert hasattr(env, '_max_episode_steps')\n",
    "\n",
    "def make_env(env_id, seed):\n",
    "    try:\n",
    "        env = gym.make(env_id)\n",
    "    except gym.error.UnregisteredEnv:\n",
    "        register(\n",
    "            id=env_id,\n",
    "            entry_point=ALL_V1_ENVIRONMENTS[env_id],\n",
    "            max_episode_steps=150)\n",
    "        print(\"Registered env\", env_id)\n",
    "        env = gym.make(env_id)\n",
    "        assert_env(env)\n",
    "    env.seed(seed)\n",
    "    setattr(env, 'is_metaworld', env_id in ALL_V1_ENVIRONMENTS.keys())\n",
    "    return env"
   ]
  },
  {
   "cell_type": "code",
   "execution_count": null,
   "metadata": {},
   "outputs": [],
   "source": [
    "env = make_env(\"\")"
   ]
  }
 ]
}